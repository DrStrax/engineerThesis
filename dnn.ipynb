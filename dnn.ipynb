{
 "cells": [
  {
   "cell_type": "code",
   "execution_count": 1,
   "metadata": {},
   "outputs": [
    {
     "name": "stdout",
     "output_type": "stream",
     "text": [
      "Populating the interactive namespace from numpy and matplotlib\n"
     ]
    },
    {
     "name": "stderr",
     "output_type": "stream",
     "text": [
      "/home/pawel/.local/lib/python3.5/site-packages/sklearn/cross_validation.py:41: DeprecationWarning: This module was deprecated in version 0.18 in favor of the model_selection module into which all the refactored classes and functions are moved. Also note that the interface of the new CV iterators are different from that of this module. This module will be removed in 0.20.\n",
      "  \"This module will be removed in 0.20.\", DeprecationWarning)\n",
      "Using TensorFlow backend.\n"
     ]
    },
    {
     "data": {
      "text/html": [
       "<div>\n",
       "<style scoped>\n",
       "    .dataframe tbody tr th:only-of-type {\n",
       "        vertical-align: middle;\n",
       "    }\n",
       "\n",
       "    .dataframe tbody tr th {\n",
       "        vertical-align: top;\n",
       "    }\n",
       "\n",
       "    .dataframe thead th {\n",
       "        text-align: right;\n",
       "    }\n",
       "</style>\n",
       "<table border=\"1\" class=\"dataframe\">\n",
       "  <thead>\n",
       "    <tr style=\"text-align: right;\">\n",
       "      <th></th>\n",
       "      <th>uID</th>\n",
       "      <th>game</th>\n",
       "      <th>action</th>\n",
       "      <th>hours</th>\n",
       "      <th>other</th>\n",
       "    </tr>\n",
       "  </thead>\n",
       "  <tbody>\n",
       "    <tr>\n",
       "      <th>0</th>\n",
       "      <td>151603712</td>\n",
       "      <td>The Elder Scrolls V Skyrim</td>\n",
       "      <td>purchase</td>\n",
       "      <td>1.0</td>\n",
       "      <td>0</td>\n",
       "    </tr>\n",
       "    <tr>\n",
       "      <th>1</th>\n",
       "      <td>151603712</td>\n",
       "      <td>The Elder Scrolls V Skyrim</td>\n",
       "      <td>play</td>\n",
       "      <td>273.0</td>\n",
       "      <td>0</td>\n",
       "    </tr>\n",
       "    <tr>\n",
       "      <th>2</th>\n",
       "      <td>151603712</td>\n",
       "      <td>Fallout 4</td>\n",
       "      <td>purchase</td>\n",
       "      <td>1.0</td>\n",
       "      <td>0</td>\n",
       "    </tr>\n",
       "    <tr>\n",
       "      <th>3</th>\n",
       "      <td>151603712</td>\n",
       "      <td>Fallout 4</td>\n",
       "      <td>play</td>\n",
       "      <td>87.0</td>\n",
       "      <td>0</td>\n",
       "    </tr>\n",
       "    <tr>\n",
       "      <th>4</th>\n",
       "      <td>151603712</td>\n",
       "      <td>Spore</td>\n",
       "      <td>purchase</td>\n",
       "      <td>1.0</td>\n",
       "      <td>0</td>\n",
       "    </tr>\n",
       "  </tbody>\n",
       "</table>\n",
       "</div>"
      ],
      "text/plain": [
       "         uID                        game    action  hours  other\n",
       "0  151603712  The Elder Scrolls V Skyrim  purchase    1.0      0\n",
       "1  151603712  The Elder Scrolls V Skyrim      play  273.0      0\n",
       "2  151603712                   Fallout 4  purchase    1.0      0\n",
       "3  151603712                   Fallout 4      play   87.0      0\n",
       "4  151603712                       Spore  purchase    1.0      0"
      ]
     },
     "execution_count": 1,
     "metadata": {},
     "output_type": "execute_result"
    }
   ],
   "source": [
    "%matplotlib inline\n",
    "%pylab inline\n",
    "\n",
    "import math\n",
    "import random\n",
    "import numpy as np\n",
    "import pandas as pd\n",
    "from sklearn import dummy, metrics, cross_validation, ensemble\n",
    "\n",
    "import keras.models as kmodels\n",
    "import keras.layers as klayers\n",
    "import keras.backend as K\n",
    "import keras\n",
    "\n",
    "data = pd.read_csv(\"./steam-200k.csv\", header=None, index_col=None, names=['uID', 'game', 'action', 'hours','other'])\n",
    "data.head()"
   ]
  },
  {
   "cell_type": "code",
   "execution_count": 2,
   "metadata": {
    "scrolled": true
   },
   "outputs": [
    {
     "name": "stderr",
     "output_type": "stream",
     "text": [
      "/home/pawel/.local/lib/python3.5/site-packages/pandas/core/frame.py:2540: SettingWithCopyWarning: \n",
      "A value is trying to be set on a copy of a slice from a DataFrame.\n",
      "Try using .loc[row_indexer,col_indexer] = value instead\n",
      "\n",
      "See the caveats in the documentation: http://pandas.pydata.org/pandas-docs/stable/indexing.html#indexing-view-versus-copy\n",
      "  self[k1] = value[k2]\n",
      "/home/pawel/.local/lib/python3.5/site-packages/pandas/core/computation/check.py:17: UserWarning: The installed version of numexpr 2.4.3 is not supported in pandas and will be not be used\n",
      "The minimum supported version is 2.4.6\n",
      "\n",
      "  ver=ver, min_ver=_MIN_NUMEXPR_VERSION), UserWarning)\n",
      "/usr/local/lib/python3.5/dist-packages/ipykernel_launcher.py:17: DeprecationWarning: \n",
      ".ix is deprecated. Please use\n",
      ".loc for label based indexing or\n",
      ".iloc for positional indexing\n",
      "\n",
      "See the documentation here:\n",
      "http://pandas.pydata.org/pandas-docs/stable/indexing.html#ix-indexer-is-deprecated\n",
      "/home/pawel/.local/lib/python3.5/site-packages/pandas/core/frame.py:2540: SettingWithCopyWarning: \n",
      "A value is trying to be set on a copy of a slice from a DataFrame.\n",
      "Try using .loc[row_indexer,col_indexer] = value instead\n",
      "\n",
      "See the caveats in the documentation: http://pandas.pydata.org/pandas-docs/stable/indexing.html#indexing-view-versus-copy\n",
      "  self[k1] = value[k2]\n"
     ]
    },
    {
     "data": {
      "text/plain": [
       "count    70477.000000\n",
       "mean         2.249506\n",
       "std          2.289660\n",
       "min          1.000077\n",
       "25%          1.039051\n",
       "50%          1.251163\n",
       "75%          2.154076\n",
       "max         10.000000\n",
       "Name: hours, dtype: float64"
      ]
     },
     "execution_count": 2,
     "metadata": {},
     "output_type": "execute_result"
    }
   ],
   "source": [
    "def normalize(df):\n",
    "    result = df.copy()\n",
    "    for feature_name in df.columns:\n",
    "        max_value = df[feature_name].max()\n",
    "        min_value = df[feature_name].min()\n",
    "        result[feature_name] = 1+ (df[feature_name] - min_value)* 9 / (max_value - min_value)\n",
    "    return result\n",
    "\n",
    "playData = data[data.action=='play']\n",
    "\n",
    "playData[['game']] = playData[['game']].stack().rank(method='dense').unstack()\n",
    "\n",
    "user_item_matrix = pd.pivot_table(playData, index = 'uID', columns ='game', values = 'hours',fill_value= 0)\n",
    "user_item_matrix = normalize(user_item_matrix)\n",
    "\n",
    "user_item_matrix = user_item_matrix.reset_index().melt(id_vars='uID',value_name='hours')\n",
    "playData = user_item_matrix.ix[~(user_item_matrix['hours'] == 1.0)]\n",
    "playData[['uID']] = playData[['uID']].stack().rank(method='dense').unstack()\n",
    "\n",
    "playData.sort_values(['uID'])\n",
    "playData['hours'].describe()"
   ]
  },
  {
   "cell_type": "code",
   "execution_count": 3,
   "metadata": {},
   "outputs": [
    {
     "data": {
      "text/plain": [
       "array([[ 0.,  0.,  0., ...,  0.,  0.,  1.],\n",
       "       [ 0.,  0.,  0., ...,  0.,  0.,  1.],\n",
       "       [ 0.,  0.,  0., ...,  0.,  0.,  0.],\n",
       "       ..., \n",
       "       [ 1.,  0.,  0., ...,  0.,  0.,  0.],\n",
       "       [ 0.,  0.,  0., ...,  0.,  0.,  1.],\n",
       "       [ 1.,  0.,  0., ...,  0.,  0.,  0.]])"
      ]
     },
     "execution_count": 3,
     "metadata": {},
     "output_type": "execute_result"
    }
   ],
   "source": [
    "game_count = len(playData['game'].unique())\n",
    "user_count = len(playData['uID'].unique())\n",
    "\n",
    "gameid = playData['game'].values\n",
    "userid = playData['uID'].values\n",
    "\n",
    "y = np.zeros((playData.shape[0], 10))\n",
    "y[np.arange(playData.values.shape[0]), playData['hours'].values.astype(int) -1] = 1\n",
    "y"
   ]
  },
  {
   "cell_type": "code",
   "execution_count": 4,
   "metadata": {},
   "outputs": [
    {
     "name": "stderr",
     "output_type": "stream",
     "text": [
      "/usr/local/lib/python3.5/dist-packages/ipykernel_launcher.py:14: UserWarning: The `merge` function is deprecated and will be removed after 08/2017. Use instead layers from `keras.layers.merge`, e.g. `add`, `concatenate`, etc.\n",
      "  \n",
      "/usr/local/lib/python3.5/dist-packages/keras/legacy/layers.py:458: UserWarning: The `Merge` layer is deprecated and will be removed after 08/2017. Use instead layers from `keras.layers.merge`, e.g. `add`, `concatenate`, etc.\n",
      "  name=name)\n"
     ]
    }
   ],
   "source": [
    "#deep learning classifier\n",
    "\n",
    "#vectorizing games\n",
    "game_input = keras.layers.Input(shape=[1])\n",
    "game_vec = keras.layers.Flatten()(keras.layers.Embedding(game_count + 1, 32)(game_input))\n",
    "game_vec = keras.layers.Dropout(0.5)(game_vec)\n",
    "\n",
    "# vectorizing users\n",
    "user_input = keras.layers.Input(shape=[1])\n",
    "user_vec = keras.layers.Flatten()(keras.layers.Embedding(user_count + 1, 32)(user_input))\n",
    "user_vec = keras.layers.Dropout(0.5)(user_vec)\n",
    "\n",
    "# Join users ang games together put through a deep learning architecture\n",
    "input_vecs = keras.layers.merge([game_vec, user_vec], mode='concat')\n",
    "nn = keras.layers.Dropout(0.5)(keras.layers.Dense(64, activation='tanh')(input_vecs))\n",
    "nn = keras.layers.normalization.BatchNormalization()(nn)\n",
    "nn = keras.layers.Dropout(0.5)(keras.layers.Dense(64, activation='tanh')(nn))\n",
    "nn = keras.layers.normalization.BatchNormalization()(nn)\n",
    "nn = keras.layers.Dense(64, activation='tanh')(nn)\n",
    "\n",
    "# Result output\n",
    "result = keras.layers.Dense(10, activation='softmax')(nn)\n",
    "\n",
    "# And make a runable model from it\n",
    "model = kmodels.Model([game_input, user_input], result)\n",
    "model.compile('adam', 'categorical_crossentropy')\n",
    "\n",
    "final_layer = kmodels.Model([game_input, user_input], nn)\n",
    "game_vec = kmodels.Model(game_input, game_vec)"
   ]
  },
  {
   "cell_type": "code",
   "execution_count": 5,
   "metadata": {},
   "outputs": [],
   "source": [
    "a_gameid, b_gameid, a_userid, b_userid, a_y, b_y = cross_validation.train_test_split(gameid, userid, y)"
   ]
  },
  {
   "cell_type": "code",
   "execution_count": 6,
   "metadata": {},
   "outputs": [
    {
     "data": {
      "text/plain": [
       "3.9890465380249718"
      ]
     },
     "execution_count": 6,
     "metadata": {},
     "output_type": "execute_result"
    }
   ],
   "source": [
    "metrics.mean_absolute_error(np.argmax(b_y, 1)+1, np.argmax(model.predict([b_gameid, b_userid]), 1)+1)"
   ]
  },
  {
   "cell_type": "code",
   "execution_count": 7,
   "metadata": {},
   "outputs": [
    {
     "data": {
      "text/plain": [
       "4.8594957768731888"
      ]
     },
     "execution_count": 7,
     "metadata": {},
     "output_type": "execute_result"
    }
   ],
   "source": [
    "sqrt(metrics.mean_squared_error(   \n",
    "    np.argmax(b_y, 1)+1, \n",
    "    np.argmax(model.predict([b_gameid, b_userid]), 1)+1))\n"
   ]
  },
  {
   "cell_type": "code",
   "execution_count": 8,
   "metadata": {
    "scrolled": false
   },
   "outputs": [
    {
     "name": "stdout",
     "output_type": "stream",
     "text": [
      "Train on 52857 samples, validate on 17620 samples\n",
      "Epoch 1/5\n",
      "52857/52857 [==============================] - 13s 249us/step - loss: 1.1199 - val_loss: 0.9457\n",
      "Epoch 2/5\n",
      "52857/52857 [==============================] - 13s 239us/step - loss: 0.9555 - val_loss: 0.9357\n",
      "Epoch 3/5\n",
      "52857/52857 [==============================] - 11s 214us/step - loss: 0.9180 - val_loss: 0.9293\n",
      "Epoch 4/5\n",
      "52857/52857 [==============================] - 12s 226us/step - loss: 0.8908 - val_loss: 0.9278\n",
      "Epoch 5/5\n",
      "52857/52857 [==============================] - 11s 216us/step - loss: 0.8691 - val_loss: 0.9428\n"
     ]
    },
    {
     "data": {
      "image/png": "[encoded data removed]",
      "text/plain": [
       "<matplotlib.figure.Figure at 0x7f8a50060908>"
      ]
     },
     "metadata": {},
     "output_type": "display_data"
    }
   ],
   "source": [
    "try:\n",
    "    history = model.fit([a_gameid, a_userid], a_y, \n",
    "                         epochs=5, \n",
    "                         validation_data=([b_gameid, b_userid], b_y),\n",
    "                       )\n",
    "    plot(history.history['loss'])\n",
    "    plot(history.history['val_loss'])\n",
    "except KeyboardInterrupt:\n",
    "    pass"
   ]
  },
  {
   "cell_type": "code",
   "execution_count": 9,
   "metadata": {},
   "outputs": [
    {
     "data": {
      "text/plain": [
       "1.0182746878547106"
      ]
     },
     "execution_count": 9,
     "metadata": {},
     "output_type": "execute_result"
    }
   ],
   "source": [
    "metrics.mean_absolute_error(\n",
    "    np.argmax(b_y, 1)+1, \n",
    "    np.argmax(model.predict([b_gameid, b_userid]), 1)+1)"
   ]
  },
  {
   "cell_type": "code",
   "execution_count": 10,
   "metadata": {},
   "outputs": [
    {
     "data": {
      "text/plain": [
       "2.5183999388473586"
      ]
     },
     "execution_count": 10,
     "metadata": {},
     "output_type": "execute_result"
    }
   ],
   "source": [
    "sqrt(metrics.mean_squared_error(   \n",
    "    np.argmax(b_y, 1)+1, \n",
    "    np.argmax(model.predict([b_gameid, b_userid]), 1)+1))\n"
   ]
  },
  {
   "cell_type": "code",
   "execution_count": null,
   "metadata": {},
   "outputs": [],
   "source": []
  }
 ],
 "metadata": {
  "kernelspec": {
   "display_name": "Python 3",
   "language": "python",
   "name": "python3"
  },
  "language_info": {
   "codemirror_mode": {
    "name": "ipython",
    "version": 3
   },
   "file_extension": ".py",
   "mimetype": "text/x-python",
   "name": "python",
   "nbconvert_exporter": "python",
   "pygments_lexer": "ipython3",
   "version": "3.5.2"
  }
 },
 "nbformat": 4,
 "nbformat_minor": 2
}
